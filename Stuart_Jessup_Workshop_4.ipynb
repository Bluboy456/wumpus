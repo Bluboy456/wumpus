{
 "cells": [
  {
   "cell_type": "markdown",
   "metadata": {},
   "source": [
    "\n",
    "\n",
    "---\n",
    "\n",
    "## EXERCISE: Burglary network\n",
    "\n",
    "Implement the *Prior Sampling* algorithm to do approximate inference on last week's Burglary network.\n",
    "\n",
    "![Burglary example](burglary_dag.png)\n",
    "\n",
    "\n",
    "Verify that the algorithm can correctly approximate the probability $P(j, m, a, \\neg b, \\neg e) = 0.0063$\n",
    "\n",
    "Try different numbers of samples (e.g. $N = 10, 100, 1000, 10000$) and compare the results.\n",
    "\n",
    "---"
   ]
  },
  {
   "cell_type": "markdown",
   "metadata": {},
   "source": [
    "\n",
    "## Prior-Sampling\n",
    "\n",
    "Define symbols:  \n",
    "B: Burglary  \n",
    "E: Earthquake  \n",
    "A: Alarm  \n",
    "J: John Calls  \n",
    "M: Mary Calls  \n"
   ]
  },
  {
   "cell_type": "code",
   "execution_count": 47,
   "metadata": {},
   "outputs": [],
   "source": [
    "import numpy as np\n",
    "import random as rnd\n",
    "t, f = 0, 1\n",
    "\n",
    "# define probability distributions:\n",
    "P_B = np.array([0.001, 0.999]) #P(B)\n",
    "P_E = np.array([0.002, 0.998]) #P(E)\n",
    "P_A_BE = np.array([[[0.95, 0.94],[0.29, 0.001]],[[0.05, 0.06],[0.71, 0.999]]])  #P(A|B,E)\n",
    "P_J_A = np.array([[0.9, 0.05],[0.1, 0.95]]) #P(J|A)\n",
    "P_M_A = np.array([[0.7, 0.01],[0.3, 0.99]]) #P(M|A)\n",
    "'''\n",
    "# debug probability distributions:\n",
    "P_B = np.array([0.5, 0.5]) #P(B)\n",
    "P_E = np.array([0.000, 1.0]) #P(E)\n",
    "P_A_BE = np.array([[[1.0, 1.0],[1.0, 1.0]],[[0.0, 0.0],[0.0, 0.0]]])  #P(A|B,E)\n",
    "P_J_A = np.array([[1.0, 1.0],[0.0, 0.0]]) #P(J|A)\n",
    "P_M_A = np.array([[1.0, 1.0],[0.0, 0.0]]) #P(M|A)\n",
    "'''\n",
    "# network variables...\n",
    "var = ['B','E','A','J','M']\n",
    "# their distributions...\n",
    "prd = {'B':P_B, 'E':P_E, 'A':P_A_BE, 'J':P_J_A, 'M':P_M_A}\n",
    "# their parents...\n",
    "par = {'B':[], 'E':[], 'A':['B','E'], 'J':['A'], 'M':['A']}\n",
    "# and their initial values\n",
    "val = {'B':f, 'E':f, 'A':f, 'J':f, 'M':f}\n"
   ]
  },
  {
   "cell_type": "markdown",
   "metadata": {},
   "source": [
    "Use the samplegen function from the workshop example to sample probabilities across a distribution:"
   ]
  },
  {
   "cell_type": "code",
   "execution_count": 52,
   "metadata": {},
   "outputs": [],
   "source": [
    "def samplegen(Pdist, Parents = []):\n",
    "    assert len(Parents) < len(Pdist.shape)\n",
    "    a = rnd.random()\n",
    "    #print('random:' + str(a))\n",
    "    b = Pdist[t][tuple(Parents)]\n",
    "    #print('Pdist[t][tuple(Parents):' + str(b))\n",
    "\n",
    "    if rnd.random() < Pdist[t][tuple(Parents)]:\n",
    "        return t\n",
    "    return f"
   ]
  },
  {
   "cell_type": "markdown",
   "metadata": {},
   "source": [
    "And the parents function to retrieve the values of the parents of a variable:"
   ]
  },
  {
   "cell_type": "code",
   "execution_count": 53,
   "metadata": {},
   "outputs": [],
   "source": [
    "def parents(X):\n",
    "\treturn [val[i] for i in par[X]]"
   ]
  },
  {
   "cell_type": "markdown",
   "metadata": {},
   "source": [
    "P(E) and P(B) are very low, so generate 100,000events:"
   ]
  },
  {
   "cell_type": "code",
   "execution_count": 90,
   "metadata": {},
   "outputs": [],
   "source": [
    "event = []\n",
    "for n in range(100000):\n",
    "    for x in var:\n",
    "        #print ('x:' + x)\n",
    "        #print ('parents: ')\n",
    "        val[x] = samplegen(prd[x], parents(x))\n",
    "    event.append(['f' if val[x] else 't' for x in var])"
   ]
  },
  {
   "cell_type": "markdown",
   "metadata": {},
   "source": [
    "Caculate ${\\hat P}( \\neg b, \\neg e, a, j, m,) $, taking care to match order of variables defined in code above"
   ]
  },
  {
   "cell_type": "code",
   "execution_count": 89,
   "metadata": {},
   "outputs": [
    {
     "name": "stdout",
     "output_type": "stream",
     "text": [
      "(P(¬b,¬e,j,m,a) =  0.00063\n"
     ]
    }
   ],
   "source": [
    "from __future__ import division   #Running python 2.7 no need this to force interger division to float result \n",
    "event_count = event.count(['f', 'f', 't', 't', 't'])\n",
    "P_query = event_count/len(event)\n",
    "print'(P('+ u'\\u00AC'+ 'b,'+ u'\\u00AC'+'e,j,m,a) = ', P_query"
   ]
  },
  {
   "cell_type": "markdown",
   "metadata": {},
   "source": [
    "As expected"
   ]
  },
  {
   "cell_type": "markdown",
   "metadata": {},
   "source": [
    "## EXERCISE (optional)\n",
    "\n",
    "Try to implement one of the following algorithms (see the pseudocode in the lecture's slides or the book):\n",
    "- *Rejection Sampling*\n",
    "- *Likelihood Weighting*\n",
    "- *Gibbs Sampling*\n",
    "\n",
    "Use your program to do approximate inference on the Sprinkler network and verify that ${\\hat P}(c, \\neg s, r, g) \\approx 0.324$.\n"
   ]
  },
  {
   "cell_type": "code",
   "execution_count": null,
   "metadata": {},
   "outputs": [],
   "source": []
  },
  {
   "cell_type": "code",
   "execution_count": null,
   "metadata": {},
   "outputs": [],
   "source": []
  }
 ],
 "metadata": {
  "kernelspec": {
   "display_name": "Python 2",
   "language": "python",
   "name": "python2"
  },
  "language_info": {
   "codemirror_mode": {
    "name": "ipython",
    "version": 2
   },
   "file_extension": ".py",
   "mimetype": "text/x-python",
   "name": "python",
   "nbconvert_exporter": "python",
   "pygments_lexer": "ipython2",
   "version": "2.7.17"
  }
 },
 "nbformat": 4,
 "nbformat_minor": 4
}
